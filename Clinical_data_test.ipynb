{
 "cells": [
  {
   "cell_type": "markdown",
   "metadata": {},
   "source": [
    "AUTHOR  - MBANEFO BENEDICT CHIBUIKE"
   ]
  },
  {
   "cell_type": "markdown",
   "metadata": {},
   "source": [
    "#TASK - Clean the \"fake_clinic_data_extract_test\" dataset"
   ]
  },
  {
   "cell_type": "code",
   "execution_count": 1,
   "metadata": {},
   "outputs": [],
   "source": [
    "# import library\n",
    "import pandas as pd \n",
    "import seaborn as sns\n",
    "import matplotlib.pyplot as plt"
   ]
  },
  {
   "cell_type": "code",
   "execution_count": 2,
   "metadata": {},
   "outputs": [
    {
     "data": {
      "text/html": [
       "<div>\n",
       "<style scoped>\n",
       "    .dataframe tbody tr th:only-of-type {\n",
       "        vertical-align: middle;\n",
       "    }\n",
       "\n",
       "    .dataframe tbody tr th {\n",
       "        vertical-align: top;\n",
       "    }\n",
       "\n",
       "    .dataframe thead th {\n",
       "        text-align: right;\n",
       "    }\n",
       "</style>\n",
       "<table border=\"1\" class=\"dataframe\">\n",
       "  <thead>\n",
       "    <tr style=\"text-align: right;\">\n",
       "      <th></th>\n",
       "      <th>appointment_date</th>\n",
       "      <th>clinic_name</th>\n",
       "      <th>patient_id</th>\n",
       "      <th>practitioner_id</th>\n",
       "      <th>appointment_duration_min</th>\n",
       "      <th>revenues_from_appointment</th>\n",
       "    </tr>\n",
       "  </thead>\n",
       "  <tbody>\n",
       "    <tr>\n",
       "      <th>0</th>\n",
       "      <td>2021-12-30</td>\n",
       "      <td>clinic_2</td>\n",
       "      <td>70172</td>\n",
       "      <td>1030</td>\n",
       "      <td>30</td>\n",
       "      <td>98.13</td>\n",
       "    </tr>\n",
       "    <tr>\n",
       "      <th>1</th>\n",
       "      <td>2021-12-29</td>\n",
       "      <td>clinic_1</td>\n",
       "      <td>53371</td>\n",
       "      <td>756</td>\n",
       "      <td>15</td>\n",
       "      <td>65.13</td>\n",
       "    </tr>\n",
       "    <tr>\n",
       "      <th>2</th>\n",
       "      <td>2021-12-29</td>\n",
       "      <td>clinic_2</td>\n",
       "      <td>69545</td>\n",
       "      <td>1030</td>\n",
       "      <td>30</td>\n",
       "      <td>105.18</td>\n",
       "    </tr>\n",
       "    <tr>\n",
       "      <th>3</th>\n",
       "      <td>2021-12-27</td>\n",
       "      <td>clinic_1</td>\n",
       "      <td>43859</td>\n",
       "      <td>756</td>\n",
       "      <td>30</td>\n",
       "      <td>58.11</td>\n",
       "    </tr>\n",
       "    <tr>\n",
       "      <th>4</th>\n",
       "      <td>2021-12-23</td>\n",
       "      <td>clinic_1</td>\n",
       "      <td>69303</td>\n",
       "      <td>756</td>\n",
       "      <td>30</td>\n",
       "      <td>119.00</td>\n",
       "    </tr>\n",
       "    <tr>\n",
       "      <th>5</th>\n",
       "      <td>2021-12-23</td>\n",
       "      <td>clinic_1</td>\n",
       "      <td>44545</td>\n",
       "      <td>756</td>\n",
       "      <td>30</td>\n",
       "      <td>58.11</td>\n",
       "    </tr>\n",
       "    <tr>\n",
       "      <th>6</th>\n",
       "      <td>2021-12-21</td>\n",
       "      <td>clinic_1</td>\n",
       "      <td>68724</td>\n",
       "      <td>756</td>\n",
       "      <td>15</td>\n",
       "      <td>50.85</td>\n",
       "    </tr>\n",
       "    <tr>\n",
       "      <th>7</th>\n",
       "      <td>2021-12-22</td>\n",
       "      <td>clinic_1</td>\n",
       "      <td>68332</td>\n",
       "      <td>756</td>\n",
       "      <td>15</td>\n",
       "      <td>41.71</td>\n",
       "    </tr>\n",
       "    <tr>\n",
       "      <th>8</th>\n",
       "      <td>2021-12-27</td>\n",
       "      <td>clinic_2</td>\n",
       "      <td>66365</td>\n",
       "      <td>1030</td>\n",
       "      <td>45</td>\n",
       "      <td>213.59</td>\n",
       "    </tr>\n",
       "    <tr>\n",
       "      <th>9</th>\n",
       "      <td>2021-12-20</td>\n",
       "      <td>clinic_1</td>\n",
       "      <td>67590</td>\n",
       "      <td>756</td>\n",
       "      <td>15</td>\n",
       "      <td>83.87</td>\n",
       "    </tr>\n",
       "  </tbody>\n",
       "</table>\n",
       "</div>"
      ],
      "text/plain": [
       "  appointment_date clinic_name  patient_id  practitioner_id  \\\n",
       "0       2021-12-30    clinic_2       70172             1030   \n",
       "1       2021-12-29    clinic_1       53371              756   \n",
       "2       2021-12-29    clinic_2       69545             1030   \n",
       "3       2021-12-27    clinic_1       43859              756   \n",
       "4       2021-12-23    clinic_1       69303              756   \n",
       "5       2021-12-23    clinic_1       44545              756   \n",
       "6       2021-12-21    clinic_1       68724              756   \n",
       "7       2021-12-22    clinic_1       68332              756   \n",
       "8       2021-12-27    clinic_2       66365             1030   \n",
       "9       2021-12-20    clinic_1       67590              756   \n",
       "\n",
       "   appointment_duration_min  revenues_from_appointment  \n",
       "0                        30                      98.13  \n",
       "1                        15                      65.13  \n",
       "2                        30                     105.18  \n",
       "3                        30                      58.11  \n",
       "4                        30                     119.00  \n",
       "5                        30                      58.11  \n",
       "6                        15                      50.85  \n",
       "7                        15                      41.71  \n",
       "8                        45                     213.59  \n",
       "9                        15                      83.87  "
      ]
     },
     "execution_count": 2,
     "metadata": {},
     "output_type": "execute_result"
    }
   ],
   "source": [
    "#importing the raw data \n",
    "df = pd.read_csv(r\"C:\\Users\\mabne\\Downloads\\fake_clinic_data_extract_test.csv\")\n",
    "df.head(10)"
   ]
  },
  {
   "cell_type": "code",
   "execution_count": 3,
   "metadata": {},
   "outputs": [
    {
     "name": "stdout",
     "output_type": "stream",
     "text": [
      "<class 'pandas.core.frame.DataFrame'>\n",
      "RangeIndex: 4071 entries, 0 to 4070\n",
      "Data columns (total 6 columns):\n",
      " #   Column                     Non-Null Count  Dtype  \n",
      "---  ------                     --------------  -----  \n",
      " 0   appointment_date           4071 non-null   object \n",
      " 1   clinic_name                4071 non-null   object \n",
      " 2   patient_id                 4071 non-null   int64  \n",
      " 3   practitioner_id            4071 non-null   int64  \n",
      " 4   appointment_duration_min   4071 non-null   int64  \n",
      " 5   revenues_from_appointment  3696 non-null   float64\n",
      "dtypes: float64(1), int64(3), object(2)\n",
      "memory usage: 191.0+ KB\n"
     ]
    }
   ],
   "source": [
    "#check specfic info about the dataset\n",
    "df.info()"
   ]
  },
  {
   "cell_type": "code",
   "execution_count": 4,
   "metadata": {},
   "outputs": [],
   "source": [
    "#CLEANING THE DATA\n",
    "\n",
    "#drop duplicates from dataset to ensure data authenticity\n",
    "df= df.drop_duplicates()\n",
    "\n",
    "#some columns in the dataset are not in the fitting datatype\n",
    "#change the appointment_date column from object type to datetime type\n",
    "df['appointment_date']= pd.to_datetime(df.appointment_date)\n",
    "\n",
    "#change clinic_name column from object type to string\n",
    "df[\"clinic_name\"] = df.clinic_name.astype(\"string\")\n",
    "\n",
    "# #change the patient_id and practitioner_id columns from int64 to string\n",
    "df['patient_id'] = df.patient_id.astype(\"string\")\n",
    "df['practitioner_id'] = df.practitioner_id.astype(\"string\")\n",
    "\n",
    "\n",
    "#sort values by the appointment_date column and reset index\n",
    "df = df.sort_values(\"appointment_date\")\n",
    "df.reset_index(drop=True, inplace=True)\n",
    "\n",
    "#extract month value into a column from appointment_date column\n",
    "df['appointment_month'] = pd.DatetimeIndex(df['appointment_date']).month"
   ]
  },
  {
   "cell_type": "code",
   "execution_count": 6,
   "metadata": {},
   "outputs": [
    {
     "name": "stdout",
     "output_type": "stream",
     "text": [
      "<class 'pandas.core.frame.DataFrame'>\n",
      "RangeIndex: 4061 entries, 0 to 4060\n",
      "Data columns (total 7 columns):\n",
      " #   Column                     Non-Null Count  Dtype         \n",
      "---  ------                     --------------  -----         \n",
      " 0   appointment_date           4061 non-null   datetime64[ns]\n",
      " 1   clinic_name                4061 non-null   string        \n",
      " 2   patient_id                 4061 non-null   string        \n",
      " 3   practitioner_id            4061 non-null   string        \n",
      " 4   appointment_duration_min   4061 non-null   int64         \n",
      " 5   revenues_from_appointment  3686 non-null   float64       \n",
      " 6   appointment_month          4061 non-null   int64         \n",
      "dtypes: datetime64[ns](1), float64(1), int64(2), string(3)\n",
      "memory usage: 222.2 KB\n"
     ]
    },
    {
     "data": {
      "text/plain": [
       "0.09234178773701059"
      ]
     },
     "execution_count": 6,
     "metadata": {},
     "output_type": "execute_result"
    }
   ],
   "source": [
    "#one of the columns in the dataset contains a considerable amount of null values\n",
    "df.info()\n",
    "\n",
    "#checking the ratio of null values\n",
    "df_filter = len(df[df[\"revenues_from_appointment\"].isnull()])/ len(df[\"revenues_from_appointment\"])\n",
    "df_filter"
   ]
  },
  {
   "cell_type": "code",
   "execution_count": 7,
   "metadata": {},
   "outputs": [
    {
     "data": {
      "text/plain": [
       "<AxesSubplot:>"
      ]
     },
     "execution_count": 7,
     "metadata": {},
     "output_type": "execute_result"
    },
    {
     "data": {
      "image/png": "[encoded data removed]",
      "text/plain": [
       "<Figure size 720x432 with 1 Axes>"
      ]
     },
     "metadata": {
      "needs_background": "light"
     },
     "output_type": "display_data"
    }
   ],
   "source": [
    "#plotting a boxplot to graphically display outliers \n",
    "fig,ax = plt.subplots(figsize=(10,6))\n",
    "sns.boxplot(data=df[\"revenues_from_appointment\"])"
   ]
  },
  {
   "cell_type": "code",
   "execution_count": 8,
   "metadata": {},
   "outputs": [
    {
     "name": "stdout",
     "output_type": "stream",
     "text": [
      "<class 'pandas.core.frame.DataFrame'>\n",
      "RangeIndex: 4061 entries, 0 to 4060\n",
      "Data columns (total 7 columns):\n",
      " #   Column                     Non-Null Count  Dtype         \n",
      "---  ------                     --------------  -----         \n",
      " 0   appointment_date           4061 non-null   datetime64[ns]\n",
      " 1   clinic_name                4061 non-null   string        \n",
      " 2   patient_id                 4061 non-null   string        \n",
      " 3   practitioner_id            4061 non-null   string        \n",
      " 4   appointment_duration_min   4061 non-null   int64         \n",
      " 5   revenues_from_appointment  4061 non-null   float64       \n",
      " 6   appointment_month          4061 non-null   int64         \n",
      "dtypes: datetime64[ns](1), float64(1), int64(2), string(3)\n",
      "memory usage: 222.2 KB\n"
     ]
    }
   ],
   "source": [
    "#the boxplot image above highlights how skewed our data is, so as a solution i will fill null values with the median\n",
    "df[\"revenues_from_appointment\"] = df[\"revenues_from_appointment\"].fillna(df[\"revenues_from_appointment\"].median())\n",
    "\n",
    "#this would show that all columns now have the same number of non-null values\n",
    "df.info()\n"
   ]
  },
  {
   "cell_type": "code",
   "execution_count": 9,
   "metadata": {},
   "outputs": [],
   "source": [
    "#After concludind the cleaning process, the new data is saved and will now be forwarded to Excel to forecast revenue\n",
    "df.to_csv('clinical_data_test.csv', index=False)"
   ]
  },
  {
   "cell_type": "code",
   "execution_count": null,
   "metadata": {},
   "outputs": [],
   "source": []
  }
 ],
 "metadata": {
  "kernelspec": {
   "display_name": "Python 3 (ipykernel)",
   "language": "python",
   "name": "python3"
  },
  "language_info": {
   "codemirror_mode": {
    "name": "ipython",
    "version": 3
   },
   "file_extension": ".py",
   "mimetype": "text/x-python",
   "name": "python",
   "nbconvert_exporter": "python",
   "pygments_lexer": "ipython3",
   "version": "3.9.7"
  }
 },
 "nbformat": 4,
 "nbformat_minor": 4
}
